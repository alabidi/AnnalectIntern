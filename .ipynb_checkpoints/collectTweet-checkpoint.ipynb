{
 "cells": [
  {
   "cell_type": "code",
   "execution_count": 7,
   "metadata": {},
   "outputs": [],
   "source": [
    "import tweepy\n",
    "from tweepy import OAuthHandler"
   ]
  },
  {
   "cell_type": "code",
   "execution_count": 6,
   "metadata": {},
   "outputs": [],
   "source": [
    "\n",
    "consumer_key = 'ENTRT_KEY'\n",
    "consumer_secret = 'ENTER_SECRET'\n",
    "bearer_token = \"BEARER\""
   ]
  },
  {
   "cell_type": "code",
   "execution_count": 9,
   "metadata": {},
   "outputs": [],
   "source": [
    "\n",
    "auth = OAuthHandler(consumer_key, consumer_secret)\n",
    "auth = tweepy.Client(bearer_token)\n",
    "api = tweepy.API(auth)"
   ]
  },
  {
   "cell_type": "code",
   "execution_count": 10,
   "metadata": {},
   "outputs": [],
   "source": [
    "client = tweepy.Client(bearer_token=bearer_token)\n"
   ]
  },
  {
   "cell_type": "code",
   "execution_count": 11,
   "metadata": {},
   "outputs": [],
   "source": [
    "query = \"#Lake_District OR #Cumbria\""
   ]
  },
  {
   "cell_type": "code",
   "execution_count": 12,
   "metadata": {},
   "outputs": [],
   "source": [
    "\n",
    "# Replace with time period of your choice\n",
    "start_time = '2022-06-23T00:00:00Z'\n",
    "\n",
    "# Replace with time period of your choice\n",
    "end_time = '2022-06-29T00:00:00Z'"
   ]
  },
  {
   "cell_type": "code",
   "execution_count": 13,
   "metadata": {},
   "outputs": [],
   "source": [
    "tweets = tweepy.Paginator(client.search_recent_tweets, query=query,\n",
    "                              tweet_fields=['context_annotations', 'created_at'],\n",
    "                         expansions='author_id',\n",
    "                          start_time=start_time,\n",
    "                                  end_time=end_time,\n",
    "                          max_results=100).flatten(limit=1000)\n",
    "    "
   ]
  },
  {
   "cell_type": "code",
   "execution_count": 14,
   "metadata": {},
   "outputs": [],
   "source": [
    "import json"
   ]
  },
  {
   "cell_type": "code",
   "execution_count": 15,
   "metadata": {},
   "outputs": [],
   "source": [
    "NoneType = type(None)"
   ]
  },
  {
   "cell_type": "code",
   "execution_count": 16,
   "metadata": {},
   "outputs": [],
   "source": [
    "d_t = {}\n",
    "for tweet in tweets:\n",
    "    authID = tweet.author_id\n",
    "    if authID:\n",
    "        text = tweet.data['text']\n",
    "        if authID in d_t.keys():\n",
    "            if not isinstance(d_t[authID],NoneType):\n",
    "                d_t[authID] = d_t[authID].append(text)\n",
    "        else:\n",
    "            if not isinstance(text,NoneType):\n",
    "                d_t[authID] = [text]\n",
    "            else:\n",
    "                print(authID)\n",
    "    \n",
    "    "
   ]
  },
  {
   "cell_type": "code",
   "execution_count": null,
   "metadata": {},
   "outputs": [],
   "source": []
  },
  {
   "cell_type": "markdown",
   "metadata": {},
   "source": [
    "1- is english\n",
    "2- remove emojis"
   ]
  },
  {
   "cell_type": "code",
   "execution_count": 17,
   "metadata": {},
   "outputs": [],
   "source": [
    "import emoji\n"
   ]
  },
  {
   "cell_type": "code",
   "execution_count": 18,
   "metadata": {},
   "outputs": [],
   "source": [
    "d_t2 = {}\n",
    "for key in d_t.keys():\n",
    "    all_text = []\n",
    "    if not isinstance(d_t[key],NoneType):\n",
    "        for text in d_t[key]:\n",
    "            \n",
    "            text = emoji.demojize(text)\n",
    "            all_text.append(text)\n",
    "        d_t2[key] = all_text\n",
    "        "
   ]
  },
  {
   "cell_type": "code",
   "execution_count": 19,
   "metadata": {},
   "outputs": [],
   "source": [
    "def strip_special(x):\n",
    "    x = x.replace('\\n','')\n",
    "    return x"
   ]
  },
  {
   "cell_type": "code",
   "execution_count": 20,
   "metadata": {},
   "outputs": [],
   "source": [
    "d_t3 = {}\n",
    "for key in d_t2.keys():\n",
    "    all_text = []\n",
    "    if not isinstance(d_t2[key],NoneType):\n",
    "        for text in d_t2[key]:\n",
    "            \n",
    "            text = strip_special(text)\n",
    "            all_text.append(text)\n",
    "        d_t3[key] = all_text\n",
    "    "
   ]
  },
  {
   "cell_type": "code",
   "execution_count": null,
   "metadata": {},
   "outputs": [],
   "source": []
  },
  {
   "cell_type": "code",
   "execution_count": 21,
   "metadata": {},
   "outputs": [],
   "source": [
    "import fasttext"
   ]
  },
  {
   "cell_type": "code",
   "execution_count": 22,
   "metadata": {},
   "outputs": [],
   "source": [
    "class LanguageIdentification:\n",
    "\n",
    "    def __init__(self):\n",
    "        pretrained_lang_model = \"../lid.176.ftz\"\n",
    "        self.model = fasttext.load_model(pretrained_lang_model)\n",
    "\n",
    "    def predict_lang(self, text):\n",
    "        predictions = self.model.predict(text, k=2) # returns top 2 matching languages\n",
    "        return predictions"
   ]
  },
  {
   "cell_type": "code",
   "execution_count": 23,
   "metadata": {},
   "outputs": [
    {
     "name": "stderr",
     "output_type": "stream",
     "text": [
      "Warning : `load_model` does not return WordVectorModel or SupervisedModel any more, but a `FastText` object which is very similar.\n"
     ]
    }
   ],
   "source": [
    "LANGUAGE = LanguageIdentification()\n"
   ]
  },
  {
   "cell_type": "code",
   "execution_count": 24,
   "metadata": {},
   "outputs": [],
   "source": [
    "lang = LANGUAGE.predict_lang(\"Hej\")"
   ]
  },
  {
   "cell_type": "code",
   "execution_count": 25,
   "metadata": {},
   "outputs": [],
   "source": [
    "d_tE = {}\n",
    "for key in d_t3.keys():\n",
    "    all_text = ','.join(d_t3[key])\n",
    "\n",
    "    lang = LANGUAGE.predict_lang(all_text)\n",
    "    lang = lang[0][0].split('_')[4]\n",
    "    if lang =='en':\n",
    "        d_tE[key] = d_t3[key]\n",
    "    "
   ]
  },
  {
   "cell_type": "code",
   "execution_count": 26,
   "metadata": {},
   "outputs": [],
   "source": [
    "import pickle"
   ]
  },
  {
   "cell_type": "code",
   "execution_count": 27,
   "metadata": {},
   "outputs": [],
   "source": [
    "pickle.dump(d_tE,open('../tweets_LD.pk','wb'))"
   ]
  },
  {
   "cell_type": "code",
   "execution_count": null,
   "metadata": {},
   "outputs": [],
   "source": []
  }
 ],
 "metadata": {
  "kernelspec": {
   "display_name": "intern",
   "language": "python",
   "name": "intern"
  },
  "language_info": {
   "codemirror_mode": {
    "name": "ipython",
    "version": 3
   },
   "file_extension": ".py",
   "mimetype": "text/x-python",
   "name": "python",
   "nbconvert_exporter": "python",
   "pygments_lexer": "ipython3",
   "version": "3.8.6"
  }
 },
 "nbformat": 4,
 "nbformat_minor": 2
}
