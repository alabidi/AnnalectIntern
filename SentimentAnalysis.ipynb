{
 "cells": [
  {
   "cell_type": "code",
   "execution_count": 2,
   "metadata": {},
   "outputs": [],
   "source": [
    "from transformers import pipeline\n"
   ]
  },
  {
   "cell_type": "markdown",
   "metadata": {},
   "source": [
    "## Initiate the sentiment analysis pipleline\n",
    "\n",
    "We are using the latest sentiment analysis to be trained on ~124M tweets. This is a fine tuned model of the base BERT model.\n",
    "\n",
    "Further information can be found here:\n",
    "\n",
    "https://huggingface.co/cardiffnlp/twitter-roberta-base-sentiment-latest"
   ]
  },
  {
   "cell_type": "code",
   "execution_count": 3,
   "metadata": {},
   "outputs": [
    {
     "name": "stderr",
     "output_type": "stream",
     "text": [
      "Downloading: 100%|████████████████████████████████████████████████████████████████████████████████████| 1.08k/1.08k [00:00<00:00, 90.7kB/s]\n",
      "Some weights of the model checkpoint at cardiffnlp/twitter-roberta-base-sentiment-latest were not used when initializing RobertaForSequenceClassification: ['roberta.pooler.dense.weight', 'roberta.pooler.dense.bias']\n",
      "- This IS expected if you are initializing RobertaForSequenceClassification from the checkpoint of a model trained on another task or with another architecture (e.g. initializing a BertForSequenceClassification model from a BertForPreTraining model).\n",
      "- This IS NOT expected if you are initializing RobertaForSequenceClassification from the checkpoint of a model that you expect to be exactly identical (initializing a BertForSequenceClassification model from a BertForSequenceClassification model).\n"
     ]
    }
   ],
   "source": [
    "sentiment_pipeline = pipeline(model=\"cardiffnlp/twitter-roberta-base-sentiment-latest\")"
   ]
  },
  {
   "cell_type": "markdown",
   "metadata": {},
   "source": [
    "## Load and pre process the data\n",
    "\n",
    "The data was extracted from twitter in the `collectTweets.ipynb notebook` where tweets mentioning (...) during the last week week extracted (limit ...)"
   ]
  },
  {
   "cell_type": "code",
   "execution_count": 4,
   "metadata": {},
   "outputs": [],
   "source": [
    "import pickle"
   ]
  },
  {
   "cell_type": "markdown",
   "metadata": {},
   "source": [
    "#### This loads the tweets in dictionary format\n",
    "\n",
    "```\n",
    "{1235: ['tweet 1','blah blah blah','some words'],\n",
    "4567, ['tweet tweet','a sentence', 'some other words']}\n",
    "```\n",
    "\n",
    "where 12345, 4567 are the account ids of the twitter users and are known as the _keys_ of the dictionary.\n",
    "\n",
    "The tweets are stored in list format `[this,is,a,list]`"
   ]
  },
  {
   "cell_type": "code",
   "execution_count": 7,
   "metadata": {},
   "outputs": [],
   "source": [
    "dt = pickle.load(open('../tweets_LD.pk','rb'))"
   ]
  },
  {
   "cell_type": "code",
   "execution_count": 8,
   "metadata": {},
   "outputs": [
    {
     "name": "stdout",
     "output_type": "stream",
     "text": [
      "1034780506523676672\n",
      "RT @AdoptionsUk: Please retweet to help Peaches find a home #CUMBRIA #UK Aged 1-2, Peaches can live with children aged 10+ and with anoth…\n"
     ]
    }
   ],
   "source": [
    "#This is an example of how to read from a dictionary\n",
    "\n",
    "for key in dt.keys():\n",
    "    tweet = dt[key]\n",
    "    #we just want the first item in the list\n",
    "    tweet1 = tweet[0]\n",
    "    print(key)\n",
    "    print(tweet1)\n",
    "    break"
   ]
  },
  {
   "cell_type": "markdown",
   "metadata": {},
   "source": [
    "### This is the NLP pre-processing section\n",
    "\n",
    "This section 'cleans' the text i.e. it removes unwanted characters and standarises the text."
   ]
  },
  {
   "cell_type": "code",
   "execution_count": 9,
   "metadata": {},
   "outputs": [],
   "source": [
    "import re"
   ]
  },
  {
   "cell_type": "code",
   "execution_count": 10,
   "metadata": {},
   "outputs": [],
   "source": [
    "def strip_names(x):\n",
    "    #This removes named mentions in tweets, i.e. it would remove @user_name\n",
    "    x = re.sub('@[^\\s]+','',x)\n",
    "    return x"
   ]
  },
  {
   "cell_type": "code",
   "execution_count": 11,
   "metadata": {},
   "outputs": [],
   "source": [
    "def remove_url(x):\n",
    "    #removes urls from the tweets\n",
    "    x = re.sub(r'http\\S+', '', x)\n",
    "    return x"
   ]
  },
  {
   "cell_type": "code",
   "execution_count": 12,
   "metadata": {},
   "outputs": [],
   "source": [
    "def strip_chars(x):\n",
    "    #removes the specific characters from the tweets\n",
    "    #HINT: this function can be modified to remove more than the characters mentioned\n",
    "    x = x.replace(\"#\",'')\n",
    "    x = x.replace(\":\",'')\n",
    "    return x\n",
    "    "
   ]
  },
  {
   "cell_type": "markdown",
   "metadata": {},
   "source": [
    "## Sentiment Analysis\n",
    "\n",
    "Attach a sentiment score to each tweet for each account id in the dictionary `dt` and create a new dictionary for each account id\n",
    "\n",
    "```\n",
    "{12345, [pos,neg,neg],\n",
    "4567, [neu,neu,pos]}\n",
    "```"
   ]
  },
  {
   "cell_type": "code",
   "execution_count": 14,
   "metadata": {},
   "outputs": [],
   "source": [
    "feelings = {}\n",
    "\n",
    "for key in dt.keys():\n",
    "    text = dt[key]\n",
    "    author_feeling =[]\n",
    "    for t in text:\n",
    "        t = strip_names(t)\n",
    "        t = remove_url(t)\n",
    "        t = strip_chars(t)\n",
    "        scores = sentiment_pipeline(t)\n",
    "        score = scores[0]['label']\n",
    "        author_feeling.append(score)\n",
    "    feelings[key] = author_feeling"
   ]
  },
  {
   "cell_type": "code",
   "execution_count": 15,
   "metadata": {},
   "outputs": [
    {
     "name": "stdout",
     "output_type": "stream",
     "text": [
      "50\n"
     ]
    }
   ],
   "source": [
    "i = 0\n",
    "feelings2 = {}\n",
    "for key in feelings.keys():\n",
    "    f = feelings[key]\n",
    "    for ff in f:\n",
    "        if ff == 'Positive':\n",
    "            i+=1\n",
    "    feelings2[key] = feelings[key][0]\n",
    "print(i)"
   ]
  },
  {
   "cell_type": "code",
   "execution_count": 16,
   "metadata": {},
   "outputs": [
    {
     "name": "stdout",
     "output_type": "stream",
     "text": [
      "7\n"
     ]
    }
   ],
   "source": [
    "i = 0\n",
    "feelings2 = {}\n",
    "for key in feelings.keys():\n",
    "    f = feelings[key]\n",
    "    for ff in f:\n",
    "        if ff == 'Negative':\n",
    "            i+=1\n",
    "    feelings2[key] = feelings[key][0]\n",
    "print(i)"
   ]
  },
  {
   "cell_type": "markdown",
   "metadata": {},
   "source": [
    "check if qashaqai is even mentioned"
   ]
  },
  {
   "cell_type": "code",
   "execution_count": 17,
   "metadata": {},
   "outputs": [
    {
     "name": "stdout",
     "output_type": "stream",
     "text": [
      "['RT @bradfordgreens: :astonished_face:The government are unbelievably looking at opening a new #coalmine in #Cumbria.:writing_hand: Want to take action? Ask your MP to…']\n",
      "['So EVERYTHING #tories say about #ClimateCrisis is bollocks #coal in #Cumbria too!!!!! Wtaf one of our most beautiful #NationalParks #ToryIncompetence #BorisJohnsonMustResign #BorisJohnson is an IDIOT #FossilFuels https://t.co/4kDrcrWjkI']\n",
      "['RT @bradfordgreens: :astonished_face:The government are unbelievably looking at opening a new #coalmine in #Cumbria.:writing_hand: Want to take action? Ask your MP to…']\n",
      "['RT @bradfordgreens: :astonished_face:The government are unbelievably looking at opening a new #coalmine in #Cumbria.:writing_hand: Want to take action? Ask your MP to…']\n",
      "['RT @bradfordgreens: :astonished_face:The government are unbelievably looking at opening a new #coalmine in #Cumbria.:writing_hand: Want to take action? Ask your MP to…']\n",
      "['How can @michaelgove make a decision on the #Cumbria #coal mine given this high level #cronycapitalism and governmental vested interests in deep #nuclear dump?  @BobCooperProduc  @TransparencyUK @RHarrabin  @TheEconomist @guardianeco https://t.co/k2Tec9nN1y']\n",
      "['RT @braithwaiteshop: Ferns, foxgloves, fluffy white clouds between the showers. Didn’t see another soul in 2 hours #grizedalepike #braithwa…']\n"
     ]
    }
   ],
   "source": [
    "for key in feelings2.keys():\n",
    "    feel = feelings2[key]\n",
    "    if feel =='Negative':\n",
    "        print(dt[key])"
   ]
  },
  {
   "cell_type": "code",
   "execution_count": 18,
   "metadata": {},
   "outputs": [
    {
     "name": "stdout",
     "output_type": "stream",
     "text": [
      "['Two of Colin Halliday’s paintings which he brought in at the weekend, now arranged over two floors..@VisitKeswick @FeatureCumbria @CumbriaWeather @LakesCumbria #keswick #LakeDistrict #cumbria #art #paintings #beautiful #Creative @ownartscheme https://t.co/OO0i6a6aao']\n",
      "['RT @BeepDoctors: @BeepDoctors are on hand across #Cumbria 24/7 365 days a year. A huge thanks to our coperate sponsors and local giving it…']\n",
      "['John Corran, hopes to raise £50k for the restoration of the Grade II listed organ at St. Paul’s, Irton in #Cumbria – by #cycling to every @churchofengland church dedicated to St Paul. 250 churches &amp; 4,000 miles, here he is at @stpaulsspenny. Donate :backhand_index_pointing_right: https://t.co/7iu1g6bhvF https://t.co/RVJmKWXzJQ']\n",
      "['RT @BeepDoctors: This week marks the start of our summer road show, thanks to our  sponsors we look forward to seeing you around #Cumbria.…']\n",
      "['@KarynRN4 @UHMBT @windermerenurse Hi Karyn! We are based in a small corner of the UK.. #LakeDistrict #Cumbria. Lovely to meet a nurse from Canada :maple_leaf:!']\n",
      "['The fantastic Roundthorn Country House in #Penrith #Cumbria https://t.co/FTT1htA7dx']\n",
      "['RT @HayleyhHoward: White stonecrop, love a sedum #wildflowers #Cumbria https://t.co/0L8Ivz1uru']\n",
      "['Some evening sunshine in Carlisle as the weather front clears :sun_with_face: #loveukweather #tuesday #cumbria https://t.co/nthvb0fg1V']\n",
      "['RT @BeepDoctors: This week marks the start of our summer road show, thanks to our  sponsors we look forward to seeing you around #Cumbria.…']\n",
      "['Learning is an act of self love.°°°°°#CUMBRIA #landscapephotography #landscape #NaturePhotography #nature #NatureIsCalling #photooftheday #photo #PhotoModeMonday #PhotoChallenge2022June #photographer #mobilephotography #Huawei #tuesdayvibe #Tuesday #beautiful https://t.co/0NuICI8wFy']\n",
      "['Looking for a Sash Window Specialist in Kilnhill we can help here https://t.co/opgfpNmpPB. Covering all of Cumbria, we have helped thousands over the years  #SashWindows #Kilnhill #Cumbria']\n",
      "['#Alexa skill Grasmere Brewery available at UK, US, CA, AU, NZ, and IN marketplaces - free to install. US link https://t.co/1KLnUcp14b. Find out about our craft beers! Visit us and sample them at The Good Sport, #UKBrewery #Cumbria https://t.co/pS9F5jMQ8u']\n",
      "['@Census2021 so glad to see the beginning of the results for the area I covered. Interesting to see the decline in population in Allerdale, Copeland and Barrow-in-Furness.@EdenCouncil has had the biggest increase in the past decade across #Cumbria of 4.1% #census2021 https://t.co/bbTyA7AqYN']\n",
      "['Well done @cumbriachamber for an energetic, inspiring &amp; transparent AGM this evening #Cumbria #business #network https://t.co/4cq3m6RyK6']\n",
      "['RT @HayleyhHoward: White stonecrop, love a sedum #wildflowers #Cumbria https://t.co/0L8Ivz1uru']\n",
      "['Love meadows this time of year. This one is in Coniston with grasses, daisies, white/red clover and buttercups. I’m sure all the pollinators appreciate it too #insects #nature #landscape #cumbria #lakedistrict https://t.co/3mjI1c3Eoz']\n",
      "[\":sunrise:'Tis said the #fairies come out to bathe in the #fairy pools carved by #MotherNature in stones on Hampsfell  #CUMBRIA overlooking #Morecambe Bay :woman_fairy_light_skin_tone::woman_fairy_medium-light_skin_tone: #fairiesmoments Wishing #fairy good #luck :four_leaf_clover:to @sjholt50 &amp; #HappyTuesday  #FairyTaleTuesday to all  @HLO_WKT79 @VenetiaJane :purple_heart: https://t.co/wETyTPkue9\"]\n",
      "[\"3 weeks until my next #Wainwright bagging trip. On the shortlist:Glaramara and Great End from SeathwaiteGreat Gable via Green Gable Pillar (the not scary route) from WasdaleComments welcome (we've done GG before from Wasdale but t'was a cloudy one)#CUMBRIA\"]\n",
      "[\"RT @corohall: :musical_note:What's that coming over the Hoad, is it a monster?:musical_note: This incredible inflatable art installation is coming to #Ulverston thi…\"]\n",
      "['RT @dbeattie22: Many a fond memory of this lido as a child. Diving boards used to stretch from those higher structures. The water was freez…']\n",
      "['Cumbria Chaos Friday 22nd July The Garden | Workington 9pm Don’t miss out when Wigan &amp; Workey Come Together it’s magic :unicorn:#cumbria #workington #garden #fridaynight #unicorn #rocknroll #pop #rock #band @WorkingtonTown @CumbriaCrack https://t.co/RQmLOEnQSe']\n",
      "[\"There's still time to check out our June offers! Have a browse for your top savings on groceries, frozen, ambient and more :backhand_index_pointing_right: https://t.co/wJz4LskDpL#catering #chef #Foodservice #Cumbria #Lancashire #SouthWestScotland #Yorkshire #pub #Sedbergh #hospitality https://t.co/rpFGnbpacR\"]\n",
      "['RT @Lake_DistrictTG: Two great farming shows in Cumbria coming up in the next few weeks. The @SKELTONSHOW is this Saturday (July 2) and the…']\n",
      "['RT @paoloschippy: Gluten free products available all day, everyday! To order or enquire, call us on 01228521371! Please note, GF products c…']\n",
      "['#vacation #Cumbria #moment #champagne @cumbria.crystal .#andreclouet very tasty https://t.co/qwdpyojPVD']\n",
      "[\"RT @PenrithACT: Today we're at the Zero Carbon Cumbria Partnership workshop. Great to be talking with other partners and officers about pro…\"]\n",
      "['Have you heard about @BeepDoctors ? If not why not give them a follow. You might be surprised how much they do for #Cumbria a small donation makes a big difference. https://t.co/GMizJRo2g9']\n",
      "['@FairydustHQ @AmandaHolden @SimonCowell @davidwalliams my dear friend has posted this what a beautiful voice #Cumbria']\n",
      "['RT @Lake_DistrictTG: Two great farming shows in Cumbria coming up in the next few weeks. The @SKELTONSHOW is this Saturday (July 2) and the…']\n",
      "['RT @RemediRj: Today marks the one year anniversary for Pathways our #Restorative #Mentoring service.  We have been attending stations to ce…']\n",
      "['RT @paoloschippy: Gluten free products available all day, everyday! To order or enquire, call us on 01228521371! Please note, GF products c…']\n",
      "['RT @DT_Cumbria: Arthur is looking for an adult only home, he enjoys attention when he asks for it, he enjoys long walks, food puzzles and t…']\n",
      "['Today marks the one year anniversary for Pathways our #Restorative #Mentoring service.  We have been attending stations to celebrate this achievement with officers across #Cumbria. @RJCouncil @AssocPCCs @cumbriapcc  @NPS_Cumbria @RJAPPG @Cumbriapolice @NMDglobal https://t.co/F7GVL5DXC7']\n",
      "['RT @Alliescribbler: Out today! The Cottage on Winter Moss. ARC readers say it’s “totally brilliant” and “beautifully written.” “Lifts a rai…']\n",
      "['RT @paoloschippy: Gluten free products available all day, everyday! To order or enquire, call us on 01228521371! Please note, GF products c…']\n",
      "['Situated just outside of Ambleside in Cumbria, Crow How Country House is the perfect base from which to explore the stunning Lake District National Park.https://t.co/q0sld9iagP#Guesthouse #Luxurious #WarmWelcome #ScenicViews #LakeDistrict #Walking #Hiking #Ambleside #Cumbria https://t.co/tSRqXzcwNg']\n",
      "[\"RT @RRecruitmentUK: 𝗠𝗢𝗥𝗘 𝗡𝗘𝗪 𝗝𝗢𝗕𝗦 𝗔𝗗𝗗𝗘𝗗!Every week we are adding so many new jobs onto our website. :computer_mouse: https://t.co/Mpk5GZgtKQ'𝗥𝗶𝘃𝗲𝗿𝘀𝗶𝗱𝗲…\"]\n",
      "['RT @DT_Cumbria: Sunday afternoon stroll around the churchyard, I like it here, sometimes I see Bunnies!:rabbit: Just want to remind you that I am…']\n",
      "['RT @DT_Cumbria: Sunday afternoon stroll around the churchyard, I like it here, sometimes I see Bunnies!:rabbit: Just want to remind you that I am…']\n",
      "[\"𝗠𝗢𝗥𝗘 𝗡𝗘𝗪 𝗝𝗢𝗕𝗦 𝗔𝗗𝗗𝗘𝗗!Every week we are adding so many new jobs onto our website. :computer_mouse: https://t.co/Mpk5GZgtKQ'𝗥𝗶𝘃𝗲𝗿𝘀𝗶𝗱𝗲 𝗥𝗲𝗰𝗿𝘂𝗶𝘁𝗺𝗲𝗻𝘁...𝘆𝗼𝘂𝗿 𝗹𝗼𝗰𝗮𝗹 𝗿𝗲𝗰𝗿𝘂𝗶𝘁𝗲𝗿'#Riverside #Recruitment #Temporary #Permanent #Cumbria #SWScotland https://t.co/8Hn1DtkW9J\"]\n",
      "['Looking for a Tennis Court Maintenance Company in Aughertree we can help here https://t.co/RuXqpmF7kK. Covering all of Cumbria, we have helped thousands over the years  #TennisCourtMaintenance #Aughertree #Cumbria']\n",
      "['\"St Bees has over 400 years of noble heritage as one of England’s oldest schools — and the new St Bees draws its traditions from these deep roots...\" - @StBeesSchool#school #education #cumbria https://t.co/7EDgmHUCzd']\n",
      "['Sourcing a Netball Court Resurfacing Company in Cartmel we can help here https://t.co/VGXcRQG6F6. Covering all of Cumbria, we have helped thousands over the years  #NetballCourtResurfacing #Cartmel #Cumbria']\n",
      "['Sourcing a Shop Front in Ellonby we can help here https://t.co/eaZwaz6cAz. Covering all of Cumbria, we have helped thousands over the years  #ShopFronts #Ellonby #Cumbria']\n",
      "['RT @paoloschippy: Gluten free products available all day, everyday! To order or enquire, call us on 01228521371! Please note, GF products c…']\n",
      "['Gluten free products available all day, everyday! To order or enquire, call us on 01228521371! Please note, GF products can take up to 30 mins! #glutenfree #fishandchips #paolos #carlisle #cumbria https://t.co/2TyVLiG0bC']\n",
      "['RT @DT_Cumbria: Sunday afternoon stroll around the churchyard, I like it here, sometimes I see Bunnies!:rabbit: Just want to remind you that I am…']\n",
      "['RT @Cartmells: Come and join a progressive and forward thinking leading law firm within beautiful #Cumbria and #NorthumberlandCheck out o…']\n",
      "[\"RT @corohall: :musical_note:What's that coming over the Hoad, is it a monster?:musical_note: This incredible inflatable art installation is coming to #Ulverston thi…\"]\n",
      "['Sourcing a Disabled Wet Room Installer in Hallbankgate we can help here https://t.co/sLDAwA3pJ9. Covering all of Cumbria, we have helped thousands over the years  #DisabledWetRooms #Hallbankgate #Cumbria']\n"
     ]
    }
   ],
   "source": [
    "for key in feelings2.keys():\n",
    "    feel = feelings2[key]\n",
    "    if feel =='Positive':\n",
    "        print(dt[key])"
   ]
  },
  {
   "cell_type": "code",
   "execution_count": null,
   "metadata": {},
   "outputs": [],
   "source": []
  },
  {
   "cell_type": "code",
   "execution_count": null,
   "metadata": {},
   "outputs": [],
   "source": []
  }
 ],
 "metadata": {
  "kernelspec": {
   "display_name": "intern",
   "language": "python",
   "name": "intern"
  },
  "language_info": {
   "codemirror_mode": {
    "name": "ipython",
    "version": 3
   },
   "file_extension": ".py",
   "mimetype": "text/x-python",
   "name": "python",
   "nbconvert_exporter": "python",
   "pygments_lexer": "ipython3",
   "version": "3.8.6"
  }
 },
 "nbformat": 4,
 "nbformat_minor": 2
}
